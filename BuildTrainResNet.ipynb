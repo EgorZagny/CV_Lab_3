{
 "cells": [
  {
   "cell_type": "code",
   "execution_count": 1,
   "metadata": {},
   "outputs": [
    {
     "name": "stdout",
     "output_type": "stream",
     "text": [
      "WARNING:tensorflow:From <ipython-input-1-29cfa823ef6d>:21: set_learning_phase (from tensorflow.python.keras.backend) is deprecated and will be removed after 2020-10-11.\n",
      "Instructions for updating:\n",
      "Simply pass a True/False value to the `training` argument of the `__call__` method of your layer or model.\n"
     ]
    }
   ],
   "source": [
    "import numpy as np\n",
    "from keras import layers\n",
    "from keras.layers import Input, Add, Dense, Activation, ZeroPadding2D, BatchNormalization, Flatten, Conv2D, AveragePooling2D, MaxPooling2D, GlobalMaxPooling2D\n",
    "from keras.models import Model, load_model\n",
    "from keras.preprocessing import image\n",
    "from keras.utils import layer_utils\n",
    "from keras.utils.data_utils import get_file\n",
    "from keras.applications.imagenet_utils import preprocess_input\n",
    "import pydot\n",
    "from IPython.display import SVG\n",
    "from keras.utils.vis_utils import model_to_dot\n",
    "from keras.utils import plot_model\n",
    "#from resnets_utils import *\n",
    "from keras.initializers import glorot_uniform\n",
    "import scipy.misc\n",
    "from matplotlib.pyplot import imshow\n",
    "%matplotlib inline\n",
    "\n",
    "import time\n",
    "import cv2\n",
    "import keras.backend as K\n",
    "K.set_image_data_format('channels_last')\n",
    "K.set_learning_phase(1)\n",
    "\n",
    "IMG_SIZE = 128\n",
    "\n",
    "\n",
    "#код для нейромережі взято з курсу Convolutional Neural Networks на платформі Coursera"
   ]
  },
  {
   "cell_type": "code",
   "execution_count": 9,
   "metadata": {},
   "outputs": [],
   "source": [
    "# GRADED FUNCTION: identity_block\n",
    "\n",
    "def identity_block(X, f, filters, stage, block):\n",
    "    \"\"\"\n",
    "    Implementation of the identity block as defined in Figure 4\n",
    "    \n",
    "    Arguments:\n",
    "    X -- input tensor of shape (m, n_H_prev, n_W_prev, n_C_prev)\n",
    "    f -- integer, specifying the shape of the middle CONV's window for the main path\n",
    "    filters -- python list of integers, defining the number of filters in the CONV layers of the main path\n",
    "    stage -- integer, used to name the layers, depending on their position in the network\n",
    "    block -- string/character, used to name the layers, depending on their position in the network\n",
    "    \n",
    "    Returns:\n",
    "    X -- output of the identity block, tensor of shape (n_H, n_W, n_C)\n",
    "    \"\"\"\n",
    "    \n",
    "    # defining name basis\n",
    "    conv_name_base = 'res' + str(stage) + block + '_branch'\n",
    "    bn_name_base = 'bn' + str(stage) + block + '_branch'\n",
    "    \n",
    "    # Retrieve Filters\n",
    "    F1, F2, F3 = filters\n",
    "    \n",
    "    # Save the input value. You'll need this later to add back to the main path. \n",
    "    X_shortcut = X\n",
    "    \n",
    "    # First component of main path\n",
    "    X = Conv2D(filters = F1, kernel_size = (1, 1), strides = (1,1), padding = 'valid', name = conv_name_base + '2a', kernel_initializer = glorot_uniform(seed=0))(X)\n",
    "    X = BatchNormalization(axis = 3, name = bn_name_base + '2a')(X)\n",
    "    X = Activation('relu')(X)\n",
    "    \n",
    "    # Second component of main path (≈3 lines)\n",
    "    X = Conv2D(filters = F2, kernel_size = (f, f), strides = (1,1), padding = 'same', name = conv_name_base + '2b', kernel_initializer = glorot_uniform(seed=0))(X)\n",
    "    X = BatchNormalization(axis = 3, name = bn_name_base + '2b')(X)\n",
    "    X = Activation('relu')(X)\n",
    "\n",
    "    # Third component of main path (≈2 lines)\n",
    "    X = Conv2D(filters = F3, kernel_size = (1, 1), strides = (1,1), padding = 'valid', name = conv_name_base + '2c', kernel_initializer = glorot_uniform(seed=0))(X)\n",
    "    X = BatchNormalization(axis = 3, name = bn_name_base + '2c')(X)\n",
    "\n",
    "    # Final step: Add shortcut value to main path, and pass it through a RELU activation (≈2 lines)\n",
    "    X = Add()([X, X_shortcut])\n",
    "    X = Activation('relu')(X)\n",
    "    \n",
    "    \n",
    "    return X"
   ]
  },
  {
   "cell_type": "code",
   "execution_count": 10,
   "metadata": {},
   "outputs": [],
   "source": [
    "# GRADED FUNCTION: convolutional_block\n",
    "\n",
    "def convolutional_block(X, f, filters, stage, block, s = 2):\n",
    "    \"\"\"\n",
    "    Implementation of the convolutional block as defined in Figure 4\n",
    "    \n",
    "    Arguments:\n",
    "    X -- input tensor of shape (m, n_H_prev, n_W_prev, n_C_prev)\n",
    "    f -- integer, specifying the shape of the middle CONV's window for the main path\n",
    "    filters -- python list of integers, defining the number of filters in the CONV layers of the main path\n",
    "    stage -- integer, used to name the layers, depending on their position in the network\n",
    "    block -- string/character, used to name the layers, depending on their position in the network\n",
    "    s -- Integer, specifying the stride to be used\n",
    "    \n",
    "    Returns:\n",
    "    X -- output of the convolutional block, tensor of shape (n_H, n_W, n_C)\n",
    "    \"\"\"\n",
    "    \n",
    "    # defining name basis\n",
    "    conv_name_base = 'res' + str(stage) + block + '_branch'\n",
    "    bn_name_base = 'bn' + str(stage) + block + '_branch'\n",
    "    \n",
    "    # Retrieve Filters\n",
    "    F1, F2, F3 = filters\n",
    "    \n",
    "    # Save the input value\n",
    "    X_shortcut = X\n",
    "\n",
    "\n",
    "    ##### MAIN PATH #####\n",
    "    # First component of main path \n",
    "    X = Conv2D(F1, (1, 1), strides = (s,s), name = conv_name_base + '2a', padding = 'valid', kernel_initializer = glorot_uniform(seed=0))(X)\n",
    "    X = BatchNormalization(axis = 3, name = bn_name_base + '2a')(X)\n",
    "    X = Activation('relu')(X)\n",
    "    \n",
    "    ### START CODE HERE ###\n",
    "\n",
    "    # Second component of main path (≈3 lines)\n",
    "    X = Conv2D(F2, (f, f), strides = (1,1), name = conv_name_base + '2b', padding = 'same',  kernel_initializer = glorot_uniform(seed=0))(X)\n",
    "    X = BatchNormalization(axis = 3, name = bn_name_base + '2b')(X)\n",
    "    X = Activation('relu')(X)\n",
    "\n",
    "    # Third component of main path (≈2 lines)\n",
    "    X = Conv2D(F3, (1, 1), strides = (1,1), name = conv_name_base + '2c', padding = 'valid', kernel_initializer = glorot_uniform(seed=0))(X)\n",
    "    X = BatchNormalization(axis = 3, name = bn_name_base + '2c')(X)\n",
    "\n",
    "    ##### SHORTCUT PATH #### (≈2 lines)\n",
    "    X_shortcut = Conv2D(F3, (1, 1), strides = (s,s), name = conv_name_base + '1', padding = 'valid', kernel_initializer = glorot_uniform(seed=0))(X_shortcut)\n",
    "    X_shortcut = BatchNormalization(axis = 3, name = bn_name_base + '1')(X_shortcut)\n",
    "\n",
    "    # Final step: Add shortcut value to main path, and pass it through a RELU activation (≈2 lines)\n",
    "    X = Add()([X, X_shortcut])\n",
    "    X = Activation('relu')(X)\n",
    "    \n",
    "    ### END CODE HERE ###\n",
    "    \n",
    "    return X"
   ]
  },
  {
   "cell_type": "code",
   "execution_count": 11,
   "metadata": {},
   "outputs": [],
   "source": [
    "# GRADED FUNCTION: ResNet50\n",
    "\n",
    "def ResNet(input_shape = (128, 128, 3), classes = 4):\n",
    "    \"\"\"\n",
    "    Implementation of the popular ResNet50 the following architecture:\n",
    "    CONV2D -> BATCHNORM -> RELU -> MAXPOOL -> CONVBLOCK -> IDBLOCK*2 -> CONVBLOCK -> IDBLOCK*3\n",
    "    -> CONVBLOCK -> IDBLOCK*5 -> CONVBLOCK -> IDBLOCK*2 -> AVGPOOL -> TOPLAYER\n",
    "\n",
    "    Arguments:\n",
    "    input_shape -- shape of the images of the dataset\n",
    "    classes -- integer, number of classes\n",
    "\n",
    "    Returns:\n",
    "    model -- a Model() instance in Keras\n",
    "    \"\"\"\n",
    "    \n",
    "    # Define the input as a tensor with shape input_shape\n",
    "    X_input = Input(input_shape)\n",
    "\n",
    "    \n",
    "    # Zero-Padding\n",
    "    X = ZeroPadding2D((3, 3))(X_input)\n",
    "    \n",
    "    # Stage 1\n",
    "    X = Conv2D(64, (7, 7), strides = (2, 2), name = 'conv1', kernel_initializer = glorot_uniform(seed=0))(X)\n",
    "    X = BatchNormalization(axis = 3, name = 'bn_conv1')(X)\n",
    "    X = Activation('relu')(X)\n",
    "    X = MaxPooling2D((3, 3), strides=(2, 2))(X)\n",
    "\n",
    "    # Stage 2\n",
    "    X = convolutional_block(X, f = 3, filters = [64, 64, 256], stage = 2, block='a', s = 1)\n",
    "    X = identity_block(X, 3, [64, 64, 256], stage=2, block='b')\n",
    "    X = identity_block(X, 3, [64, 64, 256], stage=2, block='c')\n",
    "\n",
    "    ### START CODE HERE ###\n",
    "    '''\n",
    "    # Stage 3 (≈4 lines)\n",
    "    X = convolutional_block(X, f = 3, filters = [128, 128, 512], stage = 3, block='a', s = 2)\n",
    "    X = identity_block(X, 3, [128, 128, 512], stage=3, block='b')\n",
    "    X = identity_block(X, 3, [128, 128, 512], stage=3, block='c')\n",
    "    X = identity_block(X, 3, [128, 128, 512], stage=3, block='d')\n",
    "\n",
    "    # Stage 4 (≈6 lines)\n",
    "    X = convolutional_block(X, f = 3, filters = [256, 256, 1024], stage = 4, block='a', s = 2)\n",
    "    X = identity_block(X, 3, [256, 256, 1024], stage=4, block='b')\n",
    "    X = identity_block(X, 3, [256, 256, 1024], stage=4, block='c')\n",
    "    X = identity_block(X, 3, [256, 256, 1024], stage=4, block='d')\n",
    "    X = identity_block(X, 3, [256, 256, 1024], stage=4, block='e')\n",
    "    X = identity_block(X, 3, [256, 256, 1024], stage=4, block='f')\n",
    "\n",
    "    # Stage 5 (≈3 lines)\n",
    "    X = convolutional_block(X, f = 3, filters = [512, 512, 2048], stage = 5, block='a', s = 2)\n",
    "    X = identity_block(X, 3, [512, 512, 2048], stage=5, block='b')\n",
    "    X = identity_block(X, 3, [512, 512, 2048], stage=5, block='c')\n",
    "    '''\n",
    "\n",
    "    # AVGPOOL (≈1 line). Use \"X = AveragePooling2D(...)(X)\"\n",
    "    X = AveragePooling2D([2, 2], name = \"avg_pool\")(X)\n",
    "    \n",
    "    ### END CODE HERE ###\n",
    "\n",
    "    # output layer\n",
    "    X = Flatten()(X)\n",
    "    X = Dense(classes, activation='softmax', name='fc' + str(classes), kernel_initializer = glorot_uniform(seed=0))(X)\n",
    "    \n",
    "    \n",
    "    # Create model\n",
    "    model = Model(inputs = X_input, outputs = X, name='ResNet50')\n",
    "\n",
    "    return model"
   ]
  },
  {
   "cell_type": "code",
   "execution_count": 12,
   "metadata": {},
   "outputs": [],
   "source": [
    "IMG_SIZE = 128\n",
    "\n",
    "model = ResNet(input_shape = (IMG_SIZE, IMG_SIZE, 3), classes = 4)"
   ]
  },
  {
   "cell_type": "code",
   "execution_count": 13,
   "metadata": {},
   "outputs": [],
   "source": [
    "model.compile(optimizer='adam', loss='categorical_crossentropy', metrics=['accuracy'])"
   ]
  },
  {
   "cell_type": "code",
   "execution_count": 87,
   "metadata": {},
   "outputs": [
    {
     "name": "stdout",
     "output_type": "stream",
     "text": [
      "number of training examples = 290\n",
      "number of test examples = 73\n",
      "X_train shape: (290, 128, 128, 3)\n",
      "Y_train shape: (290, 4)\n",
      "X_test shape: (73, 128, 128, 3)\n",
      "Y_test shape: (73, 4)\n"
     ]
    }
   ],
   "source": [
    "#зчитуємо дані\n",
    "X = np.zeros((363, IMG_SIZE, IMG_SIZE, 3))\n",
    "Y = np.zeros((363, 4))\n",
    "for i in range(121):\n",
    "    img = cv2.imread(f\"img/{i}.jpg\")\n",
    "    x = cv2.resize(img, (128, 128), interpolation = cv2.INTER_AREA)\n",
    "    x = np.expand_dims(x, axis=0)\n",
    "    x = x/255.0\n",
    "    X[i] = x\n",
    "    if(i <= 102):\n",
    "        Y[i][0] = 1\n",
    "    else:\n",
    "        Y[i][3] = 1\n",
    "for i in range(121):\n",
    "    img = cv2.imread(f\"img2/{i}.jpg\")\n",
    "    x = cv2.resize(img, (128, 128), interpolation = cv2.INTER_AREA)\n",
    "    x = np.expand_dims(x, axis=0)\n",
    "    x = x/255.0\n",
    "    X[i+121] = x\n",
    "    if(i <= 100):\n",
    "        Y[i+121][1] = 1\n",
    "    else:\n",
    "        Y[i+121][3] = 1\n",
    "for i in range(121):\n",
    "    img = cv2.imread(f\"img3/{i}.jpg\")\n",
    "    x = cv2.resize(img, (128, 128), interpolation = cv2.INTER_AREA)\n",
    "    x = np.expand_dims(x, axis=0)\n",
    "    x = x/255.0\n",
    "    X[i+242] = x\n",
    "    if(i <= 94):\n",
    "        Y[i+242][2] = 1\n",
    "    else:\n",
    "        Y[i+242][3] = 1        \n",
    "\n",
    "        \n",
    "from sklearn.model_selection import train_test_split\n",
    "\n",
    "X_train, X_test, Y_train, Y_test = train_test_split(X, Y, random_state=0, test_size=0.2)\n",
    "\n",
    "\n",
    "\n",
    "# Convert training and test labels to one hot matrices\n",
    "#Y_train = convert_to_one_hot(Y_train_orig, 6).T\n",
    "#Y_test = convert_to_one_hot(Y_test_orig, 6).T\n",
    "\n",
    "print (\"number of training examples = \" + str(X_train.shape[0]))\n",
    "print (\"number of test examples = \" + str(X_test.shape[0]))\n",
    "print (\"X_train shape: \" + str(X_train.shape))\n",
    "print (\"Y_train shape: \" + str(Y_train.shape))\n",
    "print (\"X_test shape: \" + str(X_test.shape))\n",
    "print (\"Y_test shape: \" + str(Y_test.shape))\n"
   ]
  },
  {
   "cell_type": "code",
   "execution_count": 88,
   "metadata": {},
   "outputs": [
    {
     "name": "stdout",
     "output_type": "stream",
     "text": [
      "Epoch 1/5\n",
      "10/10 [==============================] - 17s 2s/step - loss: 1.0690 - accuracy: 0.8897\n",
      "Epoch 2/5\n",
      "10/10 [==============================] - 17s 2s/step - loss: 0.6653 - accuracy: 0.9241\n",
      "Epoch 3/5\n",
      "10/10 [==============================] - 18s 2s/step - loss: 0.3645 - accuracy: 0.9310\n",
      "Epoch 4/5\n",
      "10/10 [==============================] - 17s 2s/step - loss: 0.1308 - accuracy: 0.9724\n",
      "Epoch 5/5\n",
      "10/10 [==============================] - 17s 2s/step - loss: 0.0192 - accuracy: 0.9931\n"
     ]
    },
    {
     "data": {
      "text/plain": [
       "<tensorflow.python.keras.callbacks.History at 0x206011db5c8>"
      ]
     },
     "execution_count": 88,
     "metadata": {},
     "output_type": "execute_result"
    }
   ],
   "source": [
    "#навчаємо нейромережу\n",
    "model.fit(X_train, Y_train, epochs = 5, batch_size = 32)"
   ]
  },
  {
   "cell_type": "code",
   "execution_count": 89,
   "metadata": {},
   "outputs": [
    {
     "name": "stdout",
     "output_type": "stream",
     "text": [
      "3/3 [==============================] - 0s 129ms/step - loss: 25.5910 - accuracy: 0.3425\n",
      "Loss = 25.590974807739258\n",
      "Test Accuracy = 0.34246575832366943\n"
     ]
    }
   ],
   "source": [
    "preds = model.evaluate(X_test, Y_test)\n",
    "print (\"Loss = \" + str(preds[0]))\n",
    "print (\"Test Accuracy = \" + str(preds[1]))"
   ]
  },
  {
   "cell_type": "code",
   "execution_count": 27,
   "metadata": {},
   "outputs": [
    {
     "name": "stdout",
     "output_type": "stream",
     "text": [
      "Input image shape: (1, 128, 128, 3)\n",
      "class prediction vector [p(0), p(1), p(2), p(3)] = \n",
      "[[6.0505408e-01 6.1265113e-05 1.7438782e-02 3.7744597e-01]]\n"
     ]
    }
   ],
   "source": [
    "#прохід по конкретному зображенню\n",
    "img = cv2.imread(f\"img/0.jpg\")\n",
    "x = cv2.resize(img, (128, 128), interpolation = cv2.INTER_AREA)\n",
    "x = np.expand_dims(x, axis=0)\n",
    "x = x/255.0\n",
    "print('Input image shape:', x.shape)\n",
    "#my_image = scipy.misc.imread(img_path)\n",
    "#imshow(my_image)\n",
    "print(\"class prediction vector [p(0), p(1), p(2), p(3)] = \")\n",
    "print(model.predict(x))"
   ]
  },
  {
   "cell_type": "code",
   "execution_count": 92,
   "metadata": {},
   "outputs": [
    {
     "name": "stdout",
     "output_type": "stream",
     "text": [
      "detected car:\t\t0.8333333333333334\n",
      "detected stand:\t\t0.8\n",
      "detected dosimeter:\t0.5882352941176471\n",
      "nothing detected:\t1.0\n",
      "\n",
      "false positive car:\t0.047619047619047616\n",
      "false positive stand:\t0.0\n",
      "false positive dosimeter:0.09090909090909091\n",
      "false negative:\t\t0.52\n",
      "\n",
      "mean time:\t\t0.009447786105237388s\n"
     ]
    }
   ],
   "source": [
    "#прохід по тестовим даним та збір метрик\n",
    "import time\n",
    "t1 = 0\n",
    "t2 = 0\n",
    "t3 = 0\n",
    "t4 = 0\n",
    "a1 = 0\n",
    "a2 = 0\n",
    "a3 = 0\n",
    "a4 = 0\n",
    "times = 0\n",
    "for i in range(X_test.shape[0]):\n",
    "    start_time = time.time()\n",
    "    p = model.predict(np.expand_dims(X_test[i], axis=0))\n",
    "    times += (time.time() - start_time)\n",
    "    #for j in range(4):\n",
    "        #if p[j] == np.max(p):\n",
    "    yp = np.argmax(p)\n",
    "    yt = np.argmax(Y_test[i])\n",
    "    #print(f\"{i+1}: {yp} {yt}\")\n",
    "    if yp == yt == 0: t1 += 1\n",
    "    elif yp == yt == 1: t2 += 1\n",
    "    elif yp == yt == 2: t3 += 1\n",
    "    elif yp == yt == 3: t4 += 1\n",
    "        \n",
    "    if yp == 0: a1 += 1\n",
    "    elif yp == 1: a2 += 1\n",
    "    elif yp == 2: a3 += 1\n",
    "    elif yp == 3: a4 += 1\n",
    "\n",
    "sY = np.sum(Y_test, axis = 0)\n",
    "print(f\"detected car:\\t\\t{t1/sY[0]}\")\n",
    "print(f\"detected stand:\\t\\t{t2/sY[1]}\")\n",
    "print(f\"detected dosimeter:\\t{t3/sY[2]}\")\n",
    "print(f\"nothing detected:\\t{t4/sY[3]}\\n\")\n",
    "\n",
    "print(f\"false positive car:\\t{(a1 - t1)/a1}\")\n",
    "print(f\"false positive stand:\\t{(a2 - t2)/a2}\")\n",
    "print(f\"false positive dosimeter:{(a3 - t3)/a3}\")\n",
    "print(f\"false negative:\\t\\t{(a4 - t4)/a4}\\n\")\n",
    "\n",
    "print(f\"mean time:\\t\\t{times/X.shape[0]}s\")"
   ]
  },
  {
   "cell_type": "code",
   "execution_count": 80,
   "metadata": {},
   "outputs": [
    {
     "name": "stdout",
     "output_type": "stream",
     "text": [
      "INFO:tensorflow:Assets written to: ReNet\\assets\n"
     ]
    }
   ],
   "source": [
    "#зберігаємо нейромережу\n",
    "model.save('ReNet')"
   ]
  },
  {
   "cell_type": "code",
   "execution_count": 91,
   "metadata": {},
   "outputs": [],
   "source": [
    "#завантажуємо нейпромережу\n",
    "model = load_model('ReNet')"
   ]
  },
  {
   "cell_type": "code",
   "execution_count": 76,
   "metadata": {},
   "outputs": [],
   "source": [
    "\n",
    "X1 = np.zeros((30, IMG_SIZE, IMG_SIZE, 3))\n",
    "Y1 = np.zeros((30, 4))\n",
    "for i in range(30):\n",
    "    img = cv2.imread(f\"img/{121+i}.jpg\")\n",
    "    x = cv2.resize(img, (128, 128), interpolation = cv2.INTER_AREA)\n",
    "    x = np.expand_dims(x, axis=0)\n",
    "    x = x/255.0\n",
    "    X1[i] = x\n",
    "    if i < 21:\n",
    "        Y1[i][0] = 1\n",
    "    else:\n",
    "        Y1[i][3] = 1\n"
   ]
  },
  {
   "cell_type": "code",
   "execution_count": 77,
   "metadata": {},
   "outputs": [],
   "source": [
    "X2 = np.concatenate((X, X1), axis = 0)\n",
    "Y2 = np.concatenate((Y, Y1), axis = 0)"
   ]
  },
  {
   "cell_type": "code",
   "execution_count": 78,
   "metadata": {},
   "outputs": [],
   "source": [
    "from sklearn.model_selection import train_test_split\n",
    "\n",
    "X_train, X_test, Y_train, Y_test = train_test_split(X2, Y2, random_state=0, test_size=0.2)"
   ]
  },
  {
   "cell_type": "code",
   "execution_count": null,
   "metadata": {},
   "outputs": [],
   "source": []
  }
 ],
 "metadata": {
  "kernelspec": {
   "display_name": "Python 3",
   "language": "python",
   "name": "python3"
  },
  "language_info": {
   "codemirror_mode": {
    "name": "ipython",
    "version": 3
   },
   "file_extension": ".py",
   "mimetype": "text/x-python",
   "name": "python",
   "nbconvert_exporter": "python",
   "pygments_lexer": "ipython3",
   "version": "3.7.4"
  }
 },
 "nbformat": 4,
 "nbformat_minor": 4
}
