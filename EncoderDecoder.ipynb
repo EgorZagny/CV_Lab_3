{
 "cells": [
  {
   "cell_type": "code",
   "execution_count": 10,
   "metadata": {},
   "outputs": [],
   "source": [
    "import cv2\n",
    "import numpy as np\n",
    "\n",
    "import time\n",
    "from threading import Thread\n",
    "\n",
    "BS = 16 #розмір макроблоку\n",
    "Step = 4 #залежить пошукова область(2*Step-1)\n",
    "\n",
    "VideoName = \"video.flv\"#відео, яке потрібно \"стиснути\"\n",
    "Compress = \"comressed_video.npy\"#сюди записуємо \"стиснуте\" відео\n",
    "\n",
    "\n",
    "\n",
    "\n",
    "#знаходить матрицю зміщення second відносно first\n",
    "def findbias(first, second):\n",
    "    height = first.shape[0] // BS\n",
    "    width = first.shape[1] // BS\n",
    "    bias = np.zeros((height, width, 2))\n",
    "    t1 = Thread(target=onethread, args=(bias,0,height//4, first, second, width))\n",
    "    t2 = Thread(target=onethread, args=(bias,height//4,height//2, first, second, width))\n",
    "    t3 = Thread(target=onethread, args=(bias,height//2,3*height//4, first, second, width))\n",
    "    t4 = Thread(target=onethread, args=(bias,3*height//4,height, first, second, width))\n",
    "    t1.start()\n",
    "    t2.start()\n",
    "    t3.start()\n",
    "    t4.start()\n",
    "    t1.join()\n",
    "    t2.join()\n",
    "    t3.join()\n",
    "    t4.join()\n",
    "    return bias\n",
    "def onethread(bias, fro, to, first, second, width):\n",
    "    for i in range(fro, to):\n",
    "        for j in range(width):\n",
    "            S = Step\n",
    "            imin = 0\n",
    "            jmin = 0\n",
    "            while(S > 0):\n",
    "                im, jm = findmindif(first, second, S, i*BS, j*BS)\n",
    "                imin += im\n",
    "                jmin += jm\n",
    "                S = S // 2\n",
    "            bias[i, j, 0] = imin\n",
    "            bias[i, j, 1] = jmin\n",
    "            \n",
    "# знаходить напрям зміщення для одного макроблоку\n",
    "def findmindif(first, second, S, x, y):\n",
    "    mind = 100000\n",
    "    imin = 0\n",
    "    jmin = 0\n",
    "    block = first[x:(x+BS),y:(y+BS)]\n",
    "    for i in [0, -S, S]:\n",
    "        if x + i >= 0 and x + i + BS <= second.shape[0]:\n",
    "            dif = mad(block, second[(x+i):(x+i+BS),y:(y+BS)])\n",
    "            if mind > dif:\n",
    "                #print(dif)\n",
    "                mind = dif\n",
    "                imin = i\n",
    "                jmin = 0\n",
    "    for j in [-S, S]:\n",
    "        if y + j >= 0 and y + j + BS <= second.shape[0]:\n",
    "            dif = mad(block, second[x:(x+BS),(y+j):(y+j+BS)])\n",
    "            if mind > dif:\n",
    "                mind = dif\n",
    "                imin = 0\n",
    "                jmin = j\n",
    "    return imin, jmin\n",
    "\n",
    "#Mean Absolute Difference\n",
    "def mad(a, b):\n",
    "    return 1/a.shape[0]/a.shape[1]*np.sum(np.abs(a - b))\n",
    "\n",
    "\n",
    "#будує кадр з даного кадру і матриці зміщення\n",
    "def buildFrame(frame, bias):\n",
    "    newframe = frame.copy()\n",
    "    for i in range(bias.shape[0]):\n",
    "        for j in range(bias.shape[1]):\n",
    "            block = frame[i*BS:(i+1)*BS,j*BS:(j+1)*BS,:]\n",
    "            newframe[int(i*BS+bias[i][j][0]):int((i+1)*BS+bias[i][j][0]),int(j*BS+bias[i][j][1]):int((j+1)*BS+bias[i][j][1]),:] = block\n",
    "    return newframe"
   ]
  },
  {
   "cell_type": "code",
   "execution_count": 11,
   "metadata": {},
   "outputs": [
    {
     "name": "stdout",
     "output_type": "stream",
     "text": [
      "time of encoding: 5.0 minutes 5.0 seconds\n",
      "mean difference between original and genereted frames: 33.0373\n"
     ]
    }
   ],
   "source": [
    "#Encoder\n",
    "\n",
    "cap = cv2.VideoCapture(VideoName)\n",
    "file = open(Compress , 'wb')\n",
    "difference = 0\n",
    "count = 0\n",
    "\n",
    "start_time = time.time()\n",
    "while(1):\n",
    "    #зчитуємо порцію з трьох кадрів якщо це можливо\n",
    "    ret, frame1 = cap.read()\n",
    "    if ret == True:\n",
    "        ret, frame2 = cap.read()\n",
    "        if ret == True:\n",
    "            np.save(file, frame2)#зберігаємо другий кадр\n",
    "            first = cv2.cvtColor(frame1,cv2.COLOR_BGR2GRAY)\n",
    "            second = cv2.cvtColor(frame2,cv2.COLOR_BGR2GRAY)\n",
    "            #знаходимо матрицю зміщення першого кадру відносно другого \n",
    "            bias = findbias(second, first)\n",
    "            count += 1\n",
    "            newframe = buildFrame(frame2, bias)\n",
    "            #рахуємо різницю між оригінальним та згенерованим кадром\n",
    "            difference += mad(frame1, newframe)\n",
    "            np.save(file, bias.astype(np.int8))#зберігаємо матрицю зміщення першого кадру\n",
    "            ret, frame3 = cap.read()\n",
    "            if ret == True:\n",
    "                third = cv2.cvtColor(frame3,cv2.COLOR_BGR2GRAY)\n",
    "                #знаходимо матрицю зміщення третього кадру відносно другого \n",
    "                bias = findbias(second, third)\n",
    "                count += 1\n",
    "                newframe = buildFrame(frame2, bias)\n",
    "                difference += mad(frame3, newframe)\n",
    "                np.save(file, bias.astype(np.int8))#зберігаємо матрицю зміщення третього кадру\n",
    "            else:\n",
    "                break\n",
    "        else:\n",
    "            np.save(file, frame1)#зберігаємо перший кадр, якщо він останній\n",
    "            break\n",
    "    else:\n",
    "        break\n",
    "\n",
    "    \n",
    "    k = cv2.waitKey(30) & 0xff\n",
    "    if k == 27:\n",
    "        break\n",
    "times = round(time.time() - start_time, 0)\n",
    "print(f\"time of encoding: {times // 60} minutes {times % 60} seconds\")\n",
    "print(f\"mean difference between original and genereted frames: {round(difference/count, 4)}\")\n",
    "    \n",
    "file.close()\n",
    "cap.release()\n",
    "cv2.destroyAllWindows()"
   ]
  },
  {
   "cell_type": "code",
   "execution_count": 9,
   "metadata": {},
   "outputs": [
    {
     "name": "stdout",
     "output_type": "stream",
     "text": [
      "time of decoding: 0.0 minutes 37.0 seconds\n"
     ]
    }
   ],
   "source": [
    "#Decoder\n",
    "file = open(Compress, 'rb')\n",
    "#out = cv2.VideoWriter('resultvideo1.avi',cv2.VideoWriter_fourcc('M','J','P','G'), 10, (704,576))\n",
    "\n",
    "start_time = time.time()\n",
    "while(1):\n",
    "    try:\n",
    "        frame = np.load(file)#зчитуємо матрицю з пікселями другого кадру\n",
    "        try:\n",
    "            bias = np.load(file)#зчитуємо матрицю зміщення першого кадру\n",
    "            newframe = buildFrame(frame, bias)#відновлюємо перший кадр\n",
    "            cv2.imshow('video',newframe)\n",
    "            cv2.imshow('video',frame)\n",
    "            #out.write(newframe)\n",
    "            #out.write(frame)\n",
    "            try:\n",
    "                bias = np.load(file)#зчитуємо матрицю зміщення третього кадру\n",
    "                newframe = buildFrame(frame, bias)#відновлюємо третій кадр\n",
    "                cv2.imshow('video',newframe)\n",
    "                #out.write(newframe)\n",
    "            except ValueError:\n",
    "                break\n",
    "        except ValueError:\n",
    "            cv2.imshow('video',frame)#якщо є маттриця з пікселями, але не має матриць зміщення, значить це останній кадр\n",
    "            #out.write(frame)\n",
    "            break\n",
    "    except ValueError:\n",
    "        break\n",
    "\n",
    "    #cv2.waitKey(0)\n",
    "    k = cv2.waitKey(30) & 0xff\n",
    "    if k == 27:\n",
    "        break\n",
    "times = round(time.time() - start_time, 0)\n",
    "print(f\"time of decoding: {times // 60} minutes {times % 60} seconds\")     \n",
    "\n",
    "file.close()\n",
    "#out.release()\n",
    "cv2.destroyAllWindows()"
   ]
  },
  {
   "cell_type": "code",
   "execution_count": 114,
   "metadata": {},
   "outputs": [
    {
     "data": {
      "text/plain": [
       "1234"
      ]
     },
     "execution_count": 114,
     "metadata": {},
     "output_type": "execute_result"
    }
   ],
   "source": [
    "count"
   ]
  },
  {
   "cell_type": "code",
   "execution_count": 7,
   "metadata": {},
   "outputs": [
    {
     "data": {
      "text/plain": [
       "(576, 704, 3)"
      ]
     },
     "execution_count": 7,
     "metadata": {},
     "output_type": "execute_result"
    }
   ],
   "source": [
    "shape"
   ]
  },
  {
   "cell_type": "code",
   "execution_count": null,
   "metadata": {},
   "outputs": [],
   "source": []
  }
 ],
 "metadata": {
  "kernelspec": {
   "display_name": "Python 3",
   "language": "python",
   "name": "python3"
  },
  "language_info": {
   "codemirror_mode": {
    "name": "ipython",
    "version": 3
   },
   "file_extension": ".py",
   "mimetype": "text/x-python",
   "name": "python",
   "nbconvert_exporter": "python",
   "pygments_lexer": "ipython3",
   "version": "3.7.4"
  }
 },
 "nbformat": 4,
 "nbformat_minor": 4
}
