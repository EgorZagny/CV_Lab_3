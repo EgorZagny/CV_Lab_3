{
 "cells": [
  {
   "cell_type": "code",
   "execution_count": 1,
   "metadata": {},
   "outputs": [
    {
     "name": "stdout",
     "output_type": "stream",
     "text": [
      "WARNING:tensorflow:From <ipython-input-1-1386c93832fe>:25: set_learning_phase (from tensorflow.python.keras.backend) is deprecated and will be removed after 2020-10-11.\n",
      "Instructions for updating:\n",
      "Simply pass a True/False value to the `training` argument of the `__call__` method of your layer or model.\n"
     ]
    }
   ],
   "source": [
    "import numpy as np\n",
    "import pandas as np\n",
    "from keras import layers\n",
    "from keras.layers import Input, Add, Dense, Activation, ZeroPadding2D, BatchNormalization, Flatten, Conv2D, AveragePooling2D, MaxPooling2D, GlobalMaxPooling2D\n",
    "from keras.models import Model, load_model\n",
    "from keras.preprocessing import image\n",
    "from keras.utils import layer_utils\n",
    "from keras.utils.data_utils import get_file\n",
    "from keras.applications.imagenet_utils import preprocess_input\n",
    "import pydot\n",
    "from IPython.display import SVG\n",
    "from keras.utils.vis_utils import model_to_dot\n",
    "from keras.utils import plot_model\n",
    "#from resnets_utils import *\n",
    "from keras.initializers import glorot_uniform\n",
    "import scipy.misc\n",
    "from matplotlib.pyplot import imshow\n",
    "%matplotlib inline\n",
    "\n",
    "MIN_MATCH_COUNT = 19\n",
    "import cv2\n",
    "import time\n",
    "import keras.backend as K\n",
    "K.set_image_data_format('channels_last')\n",
    "K.set_learning_phase(1)"
   ]
  },
  {
   "cell_type": "code",
   "execution_count": 2,
   "metadata": {},
   "outputs": [],
   "source": [
    "#завантажити нейромережу\n",
    "model = load_model('ReNet')\n",
    "IMG_SIZE = 128"
   ]
  },
  {
   "cell_type": "code",
   "execution_count": 32,
   "metadata": {},
   "outputs": [
    {
     "name": "stdout",
     "output_type": "stream",
     "text": [
      "number of training examples = 290\n",
      "number of test examples = 73\n",
      "X_train shape: (290, 128, 128, 3)\n",
      "Y_train shape: (290, 4)\n",
      "X_test shape: (73, 128, 128, 3)\n",
      "Y_test shape: (73, 4)\n"
     ]
    }
   ],
   "source": [
    "#завантажити вхідні дані\n",
    "X = np.zeros((363, IMG_SIZE, IMG_SIZE, 3))\n",
    "Y = np.zeros((363, 4))\n",
    "for i in range(121):\n",
    "    img = cv2.imread(f\"img/{i}.jpg\")\n",
    "    x = cv2.resize(img, (128, 128), interpolation = cv2.INTER_AREA)\n",
    "    x = np.expand_dims(x, axis=0)\n",
    "    x = x/255.0\n",
    "    X[i] = x\n",
    "    if(i <= 102):\n",
    "        Y[i][0] = 1\n",
    "    else:\n",
    "        Y[i][3] = 1\n",
    "for i in range(121):\n",
    "    img = cv2.imread(f\"img2/{i}.jpg\")\n",
    "    x = cv2.resize(img, (128, 128), interpolation = cv2.INTER_AREA)\n",
    "    x = np.expand_dims(x, axis=0)\n",
    "    x = x/255.0\n",
    "    X[i+121] = x\n",
    "    if(i <= 100):\n",
    "        Y[i+121][1] = 1\n",
    "    else:\n",
    "        Y[i+121][3] = 1\n",
    "for i in range(121):\n",
    "    img = cv2.imread(f\"img3/{i}.jpg\")\n",
    "    x = cv2.resize(img, (128, 128), interpolation = cv2.INTER_AREA)\n",
    "    x = np.expand_dims(x, axis=0)\n",
    "    x = x/255.0\n",
    "    X[i+242] = x\n",
    "    if(i <= 94):\n",
    "        Y[i+242][2] = 1\n",
    "    else:\n",
    "        Y[i+242][3] = 1        \n",
    "\n",
    "        \n",
    "from sklearn.model_selection import train_test_split\n",
    "\n",
    "X_train, X_test, Y_train, Y_test = train_test_split(X, Y, random_state=0, test_size=0.2)\n",
    "\n",
    "print (\"number of training examples = \" + str(X_train.shape[0]))\n",
    "print (\"number of test examples = \" + str(X_test.shape[0]))\n",
    "print (\"X_train shape: \" + str(X_train.shape))\n",
    "print (\"Y_train shape: \" + str(Y_train.shape))\n",
    "print (\"X_test shape: \" + str(X_test.shape))\n",
    "print (\"Y_test shape: \" + str(Y_test.shape))\n"
   ]
  },
  {
   "cell_type": "code",
   "execution_count": 33,
   "metadata": {},
   "outputs": [
    {
     "name": "stdout",
     "output_type": "stream",
     "text": [
      "detected car:\t\t0.8333333333333334\n",
      "detected stand:\t\t0.8\n",
      "detected dosimeter:\t0.5882352941176471\n",
      "nothing detected:\t1.0\n",
      "\n",
      "false positive car:\t0.047619047619047616\n",
      "false positive stand:\t0.0\n",
      "false positive dosimeter:0.09090909090909091\n",
      "false negative:\t\t0.52\n",
      "\n",
      "mean time:\t\t0.008813564442406016s\n"
     ]
    }
   ],
   "source": [
    "#пройти нейромережею по вхідних даних та зібрати метрики\n",
    "t1 = 0\n",
    "t2 = 0\n",
    "t3 = 0\n",
    "t4 = 0\n",
    "a1 = 0\n",
    "a2 = 0\n",
    "a3 = 0\n",
    "a4 = 0\n",
    "times = 0\n",
    "for i in range(X_test.shape[0]):\n",
    "    start_time = time.time()\n",
    "    p = model.predict(np.expand_dims(X_test[i], axis=0))\n",
    "    times += (time.time() - start_time)\n",
    "    #for j in range(4):\n",
    "        #if p[j] == np.max(p):\n",
    "    yp = np.argmax(p)\n",
    "    yt = np.argmax(Y_test[i])\n",
    "    #print(f\"{i+1}: {yp} {yt}\")\n",
    "    if yp == yt == 0: t1 += 1\n",
    "    elif yp == yt == 1: t2 += 1\n",
    "    elif yp == yt == 2: t3 += 1\n",
    "    elif yp == yt == 3: t4 += 1\n",
    "        \n",
    "    if yp == 0: a1 += 1\n",
    "    elif yp == 1: a2 += 1\n",
    "    elif yp == 2: a3 += 1\n",
    "    elif yp == 3: a4 += 1\n",
    "\n",
    "sY = np.sum(Y_test, axis = 0)\n",
    "print(f\"detected car:\\t\\t{t1/sY[0]}\")\n",
    "print(f\"detected stand:\\t\\t{t2/sY[1]}\")\n",
    "print(f\"detected dosimeter:\\t{t3/sY[2]}\")\n",
    "print(f\"nothing detected:\\t{t4/sY[3]}\\n\")\n",
    "\n",
    "print(f\"false positive car:\\t{(a1 - t1)/a1}\")\n",
    "print(f\"false positive stand:\\t{(a2 - t2)/a2}\")\n",
    "print(f\"false positive dosimeter:{(a3 - t3)/a3}\")\n",
    "print(f\"false negative:\\t\\t{(a4 - t4)/a4}\\n\")\n",
    "\n",
    "print(f\"mean time:\\t\\t{times/X.shape[0]}s\")"
   ]
  },
  {
   "cell_type": "code",
   "execution_count": 30,
   "metadata": {},
   "outputs": [
    {
     "name": "stdout",
     "output_type": "stream",
     "text": [
      "<VideoWriter 000001B99D952450>\n"
     ]
    }
   ],
   "source": [
    "#пройти нейромережею та дескриптором по відео, та записати відео з результатами\n",
    "\n",
    "cap = cv2.VideoCapture(\"carvideo.mp4\")\n",
    "img1 = cv2.imread(\"img/0.jpg\")\n",
    "\n",
    "surf = cv2.xfeatures2d.SURF_create()\n",
    "kp1, des1 = surf.detectAndCompute(img1, None)\n",
    "#out = cv2.VideoWriter('classificator1.avi',cv2.VideoWriter_fourcc('M','J','P','G'), 1, (1080, 1920))\n",
    "out = cv2.VideoWriter('classificator.avi',cv2.VideoWriter_fourcc('M','J','P','G'), 20, (960, 540))\n",
    "while(1):    \n",
    "    ret, frame = cap.read()\n",
    "    if ret == True:\n",
    "        frame = cv2.resize(frame, (0,0), fx=0.5, fy=0.5)\n",
    "        x = cv2.resize(frame, (128, 128), interpolation = cv2.INTER_AREA)\n",
    "        x = np.expand_dims(x, axis=0)\n",
    "        x = x/255.0\n",
    "        kp2, des2 = surf.detectAndCompute(frame, None)\n",
    "        bf = cv2.BFMatcher()\n",
    "\n",
    "        good = []\n",
    "        if isinstance(des2, np.ndarray):\n",
    "            matches = bf.knnMatch(des1, des2, k=2)\n",
    "            for m,n in matches:\n",
    "                if m.distance < 0.75*n.distance:\n",
    "                    good.append(m)\n",
    "\n",
    "        if (len(good)>=MIN_MATCH_COUNT):\n",
    "            src_pts = np.float32([ kp1[m.queryIdx].pt for m in good ]).reshape(-1,1,2)\n",
    "            dst_pts = np.float32([ kp2[m.trainIdx].pt for m in good ]).reshape(-1,1,2)\n",
    "\n",
    "            M, mask = cv2.findHomography(src_pts, dst_pts, cv2.RANSAC,5.0)\n",
    "            matchesMask = mask.ravel().tolist()\n",
    "\n",
    "            h,w,c = img1.shape\n",
    "            pts = np.float32([ [0,0],[0,h-1],[w-1,h-1],[w-1,0] ]).reshape(-1,1,2)\n",
    "            dst = cv2.perspectiveTransform(pts,M)\n",
    "\n",
    "            frame = cv2.polylines(frame,[np.int32(dst)],True,255,3, cv2.LINE_AA)\n",
    "        p = model.predict(x)\n",
    "        obj = (\"car\",\"stand\",\"dozimeter\",\"none\")\n",
    "        font = cv2.FONT_HERSHEY_SIMPLEX\n",
    "        cv2.putText(frame, obj[np.argmax(p)], (10,50), font, 2, (0, 255, 0), 2, cv2.LINE_AA)\n",
    "        out.write(frame)\n",
    "        cv2.imshow(\"result\", frame)\n",
    "    else:\n",
    "        break\n",
    "\n",
    "    \n",
    "    k = cv2.waitKey(30) & 0xff\n",
    "    if k == 27:\n",
    "        break\n",
    "\n",
    "out.release()    \n",
    "cap.release()\n",
    "cv2.destroyAllWindows()"
   ]
  },
  {
   "cell_type": "code",
   "execution_count": 19,
   "metadata": {},
   "outputs": [
    {
     "data": {
      "text/plain": [
       "(540, 960, 3)"
      ]
     },
     "execution_count": 19,
     "metadata": {},
     "output_type": "execute_result"
    }
   ],
   "source": [
    "shape"
   ]
  },
  {
   "cell_type": "code",
   "execution_count": null,
   "metadata": {},
   "outputs": [],
   "source": [
    "results_SURF_stand = pd.read_csv('csv/SURF_VladB_dataresult.csv', sep=',')\n",
    "results_SURF_dosimeter = pd.read_csv('csv/SURF_VladK_dataresult.csv', sep=',')\n",
    "results_SURF_car = pd.read_csv('csv/SURF_Egor_dataresult.csv', sep=',')\n",
    "\n",
    "stand_positive = 100\n",
    "stand_negative = 20\n",
    "\n",
    "dosimeter_positive = 94\n",
    "dosimeter_negative = 20\n",
    "\n",
    "car_positive = 102\n",
    "car_negative = 18\n",
    "\n",
    "TP_SURF_stand = results_SURF_stand[\"MeanDist\"].head(stand_positive).count().sum()\n",
    "TN_SURF_stand = results_SURF_stand[\"MeanDist\"].tail(stand_negative).isna().sum()\n",
    "FN_SURF_stand = results_SURF_stand[\"MeanDist\"].head(stand_positive).isna().sum()\n",
    "FP_SURF_stand = results_SURF_stand[\"MeanDist\"].tail(stand_negative).count().sum()\n",
    "print(\"SURF:\", round(TP_SURF_stand, 2), \"% /\", round(TN_SURF_stand, 2), \"%\")"
   ]
  }
 ],
 "metadata": {
  "kernelspec": {
   "display_name": "Python 3",
   "language": "python",
   "name": "python3"
  },
  "language_info": {
   "codemirror_mode": {
    "name": "ipython",
    "version": 3
   },
   "file_extension": ".py",
   "mimetype": "text/x-python",
   "name": "python",
   "nbconvert_exporter": "python",
   "pygments_lexer": "ipython3",
   "version": "3.7.4"
  }
 },
 "nbformat": 4,
 "nbformat_minor": 4
}
